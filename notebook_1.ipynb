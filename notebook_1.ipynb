{
 "cells": [
  {
   "cell_type": "markdown",
   "metadata": {},
   "source": [
    "# Market Sentiment vs Trading Behavior Analysis\n",
    "### Uncovering Hidden Patterns in Fear & Greed Cycles\n",
    "\n",
    "This analysis explores the intricate relationship between market sentiment (Fear & Greed Index) and actual trading behavior on Hyperliquid, revealing actionable insights for strategic trading decisions."
   ]
  },
  {
   "cell_type": "code",
   "execution_count": 18,
   "metadata": {},
   "outputs": [],
   "source": [
    "import pandas as pd\n",
    "import numpy as np\n",
    "import matplotlib.pyplot as plt\n",
    "import seaborn as sns\n",
    "from datetime import datetime, timedelta\n",
    "import plotly.graph_objects as go\n",
    "import plotly.express as px\n",
    "from plotly.subplots import make_subplots\n",
    "import warnings\n",
    "import os\n",
    "warnings.filterwarnings('ignore')\n",
    "\n",
    "# Create outputs directory\n",
    "os.makedirs('outputs', exist_ok=True)\n",
    "\n",
    "plt.style.use('dark_background')\n",
    "sns.set_palette(\"husl\")\n",
    "\n",
    "emotion_colors = {\n",
    "    'fear': '#ff4757',\n",
    "    'greed': '#2ed573', \n",
    "    'neutral': '#ffa502',\n",
    "    'extreme_fear': '#8b0000',\n",
    "    'extreme_greed': '#006400',\n",
    "    'accent': '#3742fa'\n",
    "}"
   ]
  },
  {
   "cell_type": "markdown",
   "metadata": {},
   "source": [
    "## Data Ingestion & Preprocessing"
   ]
  },
  {
   "cell_type": "code",
   "execution_count": 19,
   "metadata": {},
   "outputs": [
    {
     "name": "stdout",
     "output_type": "stream",
     "text": [
      "Analysis period: 2023-05-01 00:00:00 to 2025-05-01 00:00:00\n",
      "Total trading days: 479\n",
      "Sentiment distribution:\n",
      "classification\n",
      "Greed            193\n",
      "Extreme Greed    114\n",
      "Fear              91\n",
      "Neutral           67\n",
      "Extreme Fear      14\n",
      "Name: count, dtype: int64\n"
     ]
    }
   ],
   "source": [
    "fear_greed = pd.read_csv('csv_files/fear_greed_index (1).csv')\n",
    "trading_data = pd.read_csv('csv_files/historical_data.csv')\n",
    "\n",
    "fear_greed['date'] = pd.to_datetime(fear_greed['date'])\n",
    "trading_data['date'] = pd.to_datetime(trading_data['Timestamp IST'].str.split(' ').str[0], format='%d-%m-%Y')\n",
    "trading_data['hour'] = pd.to_datetime(trading_data['Timestamp IST'], format='%d-%m-%Y %H:%S').dt.hour\n",
    "\n",
    "sentiment_map = {\n",
    "    'Extreme Fear': 0, 'Fear': 1, 'Neutral': 2, 'Greed': 3, 'Extreme Greed': 4\n",
    "}\n",
    "fear_greed['sentiment_score'] = fear_greed['classification'].map(sentiment_map)\n",
    "\n",
    "trading_metrics = trading_data.groupby(['date', 'Account']).agg({\n",
    "    'Size USD': ['sum', 'count', 'mean'],\n",
    "    'Closed PnL': ['sum', 'mean'],\n",
    "    'Fee': 'sum',\n",
    "    'Side': lambda x: (x == 'BUY').mean()\n",
    "}).round(4)\n",
    "\n",
    "trading_metrics.columns = ['volume', 'trades', 'avg_trade_size', 'total_pnl', 'avg_pnl', 'fees', 'buy_ratio']\n",
    "trading_metrics = trading_metrics.reset_index()\n",
    "\n",
    "daily_metrics = trading_metrics.groupby('date').agg({\n",
    "    'volume': 'sum',\n",
    "    'trades': 'sum', \n",
    "    'total_pnl': 'sum',\n",
    "    'avg_pnl': 'mean',\n",
    "    'buy_ratio': 'mean',\n",
    "    'Account': 'nunique'\n",
    "}).rename(columns={'Account': 'active_traders'})\n",
    "\n",
    "merged_data = pd.merge(fear_greed, daily_metrics, on='date', how='inner')\n",
    "merged_data['pnl_per_volume'] = merged_data['total_pnl'] / merged_data['volume']\n",
    "merged_data['efficiency_ratio'] = merged_data['total_pnl'] / (merged_data['volume'] + 1e-6)\n",
    "\n",
    "print(f\"Analysis period: {merged_data['date'].min()} to {merged_data['date'].max()}\")\n",
    "print(f\"Total trading days: {len(merged_data)}\")\n",
    "print(f\"Sentiment distribution:\\n{merged_data['classification'].value_counts()}\")"
   ]
  },
  {
   "cell_type": "markdown",
   "metadata": {},
   "source": [
    "## Market Sentiment Landscape"
   ]
  },
  {
   "cell_type": "code",
   "execution_count": 20,
   "metadata": {},
   "outputs": [
    {
     "data": {
      "application/vnd.plotly.v1+json": {
       "config": {
        "plotlyServerURL": "https://plot.ly"
       },
       "data": [
        {
         "line": {
          "color": "#3742fa",
          "width": 2
         },
         "mode": "lines",
         "name": "F&G Index",
         "type": "scatter",
         "x": [
          "2023-05-01T00:00:00.000000000",
          "2023-12-05T00:00:00.000000000",
          "2023-12-14T00:00:00.000000000",
          "2023-12-15T00:00:00.000000000",
          "2023-12-16T00:00:00.000000000",
          "2023-12-17T00:00:00.000000000",
          "2023-12-18T00:00:00.000000000",
          "2023-12-19T00:00:00.000000000",
          "2023-12-20T00:00:00.000000000",
          "2023-12-21T00:00:00.000000000",
          "2023-12-22T00:00:00.000000000",
          "2023-12-23T00:00:00.000000000",
          "2023-12-24T00:00:00.000000000",
          "2023-12-25T00:00:00.000000000",
          "2023-12-27T00:00:00.000000000",
          "2023-12-28T00:00:00.000000000",
          "2023-12-29T00:00:00.000000000",
          "2023-12-30T00:00:00.000000000",
          "2024-01-01T00:00:00.000000000",
          "2024-01-02T00:00:00.000000000",
          "2024-01-03T00:00:00.000000000",
          "2024-01-04T00:00:00.000000000",
          "2024-01-05T00:00:00.000000000",
          "2024-01-06T00:00:00.000000000",
          "2024-01-07T00:00:00.000000000",
          "2024-01-08T00:00:00.000000000",
          "2024-01-09T00:00:00.000000000",
          "2024-01-10T00:00:00.000000000",
          "2024-01-11T00:00:00.000000000",
          "2024-01-12T00:00:00.000000000",
          "2024-01-15T00:00:00.000000000",
          "2024-01-16T00:00:00.000000000",
          "2024-01-17T00:00:00.000000000",
          "2024-01-18T00:00:00.000000000",
          "2024-01-19T00:00:00.000000000",
          "2024-01-20T00:00:00.000000000",
          "2024-01-21T00:00:00.000000000",
          "2024-01-22T00:00:00.000000000",
          "2024-01-23T00:00:00.000000000",
          "2024-01-24T00:00:00.000000000",
          "2024-01-25T00:00:00.000000000",
          "2024-01-26T00:00:00.000000000",
          "2024-01-28T00:00:00.000000000",
          "2024-01-29T00:00:00.000000000",
          "2024-01-30T00:00:00.000000000",
          "2024-01-31T00:00:00.000000000",
          "2024-02-01T00:00:00.000000000",
          "2024-02-02T00:00:00.000000000",
          "2024-02-03T00:00:00.000000000",
          "2024-02-04T00:00:00.000000000",
          "2024-02-05T00:00:00.000000000",
          "2024-02-06T00:00:00.000000000",
          "2024-02-07T00:00:00.000000000",
          "2024-02-08T00:00:00.000000000",
          "2024-02-11T00:00:00.000000000",
          "2024-02-12T00:00:00.000000000",
          "2024-02-13T00:00:00.000000000",
          "2024-02-14T00:00:00.000000000",
          "2024-02-15T00:00:00.000000000",
          "2024-02-16T00:00:00.000000000",
          "2024-02-17T00:00:00.000000000",
          "2024-02-18T00:00:00.000000000",
          "2024-02-19T00:00:00.000000000",
          "2024-02-20T00:00:00.000000000",
          "2024-02-21T00:00:00.000000000",
          "2024-02-22T00:00:00.000000000",
          "2024-02-23T00:00:00.000000000",
          "2024-02-25T00:00:00.000000000",
          "2024-02-26T00:00:00.000000000",
          "2024-02-27T00:00:00.000000000",
          "2024-02-28T00:00:00.000000000",
          "2024-02-29T00:00:00.000000000",
          "2024-03-01T00:00:00.000000000",
          "2024-03-02T00:00:00.000000000",
          "2024-03-03T00:00:00.000000000",
          "2024-03-04T00:00:00.000000000",
          "2024-03-05T00:00:00.000000000",
          "2024-03-06T00:00:00.000000000",
          "2024-03-08T00:00:00.000000000",
          "2024-03-09T00:00:00.000000000",
          "2024-03-10T00:00:00.000000000",
          "2024-03-11T00:00:00.000000000",
          "2024-03-12T00:00:00.000000000",
          "2024-03-13T00:00:00.000000000",
          "2024-03-14T00:00:00.000000000",
          "2024-03-15T00:00:00.000000000",
          "2024-03-16T00:00:00.000000000",
          "2024-03-17T00:00:00.000000000",
          "2024-03-18T00:00:00.000000000",
          "2024-03-19T00:00:00.000000000",
          "2024-03-20T00:00:00.000000000",
          "2024-03-21T00:00:00.000000000",
          "2024-03-24T00:00:00.000000000",
          "2024-03-25T00:00:00.000000000",
          "2024-03-26T00:00:00.000000000",
          "2024-03-27T00:00:00.000000000",
          "2024-03-28T00:00:00.000000000",
          "2024-03-29T00:00:00.000000000",
          "2024-03-30T00:00:00.000000000",
          "2024-03-31T00:00:00.000000000",
          "2024-04-01T00:00:00.000000000",
          "2024-04-02T00:00:00.000000000",
          "2024-04-03T00:00:00.000000000",
          "2024-04-04T00:00:00.000000000",
          "2024-04-05T00:00:00.000000000",
          "2024-04-06T00:00:00.000000000",
          "2024-04-07T00:00:00.000000000",
          "2024-04-08T00:00:00.000000000",
          "2024-04-09T00:00:00.000000000",
          "2024-04-10T00:00:00.000000000",
          "2024-04-11T00:00:00.000000000",
          "2024-04-12T00:00:00.000000000",
          "2024-04-13T00:00:00.000000000",
          "2024-04-14T00:00:00.000000000",
          "2024-04-15T00:00:00.000000000",
          "2024-04-16T00:00:00.000000000",
          "2024-04-17T00:00:00.000000000",
          "2024-04-19T00:00:00.000000000",
          "2024-04-20T00:00:00.000000000",
          "2024-04-22T00:00:00.000000000",
          "2024-04-23T00:00:00.000000000",
          "2024-04-24T00:00:00.000000000",
          "2024-04-25T00:00:00.000000000",
          "2024-04-26T00:00:00.000000000",
          "2024-04-27T00:00:00.000000000",
          "2024-04-28T00:00:00.000000000",
          "2024-04-29T00:00:00.000000000",
          "2024-04-30T00:00:00.000000000",
          "2024-05-01T00:00:00.000000000",
          "2024-05-03T00:00:00.000000000",
          "2024-05-04T00:00:00.000000000",
          "2024-05-05T00:00:00.000000000",
          "2024-05-06T00:00:00.000000000",
          "2024-05-07T00:00:00.000000000",
          "2024-05-08T00:00:00.000000000",
          "2024-05-09T00:00:00.000000000",
          "2024-05-10T00:00:00.000000000",
          "2024-05-11T00:00:00.000000000",
          "2024-05-12T00:00:00.000000000",
          "2024-05-13T00:00:00.000000000",
          "2024-05-14T00:00:00.000000000",
          "2024-05-15T00:00:00.000000000",
          "2024-05-16T00:00:00.000000000",
          "2024-05-18T00:00:00.000000000",
          "2024-05-19T00:00:00.000000000",
          "2024-05-20T00:00:00.000000000",
          "2024-05-21T00:00:00.000000000",
          "2024-05-22T00:00:00.000000000",
          "2024-05-23T00:00:00.000000000",
          "2024-05-24T00:00:00.000000000",
          "2024-05-25T00:00:00.000000000",
          "2024-05-26T00:00:00.000000000",
          "2024-05-27T00:00:00.000000000",
          "2024-05-29T00:00:00.000000000",
          "2024-05-30T00:00:00.000000000",
          "2024-05-31T00:00:00.000000000",
          "2024-06-01T00:00:00.000000000",
          "2024-06-02T00:00:00.000000000",
          "2024-06-03T00:00:00.000000000",
          "2024-06-04T00:00:00.000000000",
          "2024-06-05T00:00:00.000000000",
          "2024-06-06T00:00:00.000000000",
          "2024-06-07T00:00:00.000000000",
          "2024-06-08T00:00:00.000000000",
          "2024-06-09T00:00:00.000000000",
          "2024-06-10T00:00:00.000000000",
          "2024-06-11T00:00:00.000000000",
          "2024-06-12T00:00:00.000000000",
          "2024-06-13T00:00:00.000000000",
          "2024-06-14T00:00:00.000000000",
          "2024-06-15T00:00:00.000000000",
          "2024-06-16T00:00:00.000000000",
          "2024-06-17T00:00:00.000000000",
          "2024-06-18T00:00:00.000000000",
          "2024-06-19T00:00:00.000000000",
          "2024-06-20T00:00:00.000000000",
          "2024-06-21T00:00:00.000000000",
          "2024-06-22T00:00:00.000000000",
          "2024-06-23T00:00:00.000000000",
          "2024-06-24T00:00:00.000000000",
          "2024-06-25T00:00:00.000000000",
          "2024-06-26T00:00:00.000000000",
          "2024-06-27T00:00:00.000000000",
          "2024-06-29T00:00:00.000000000",
          "2024-06-30T00:00:00.000000000",
          "2024-07-01T00:00:00.000000000",
          "2024-07-02T00:00:00.000000000",
          "2024-07-03T00:00:00.000000000",
          "2024-07-04T00:00:00.000000000",
          "2024-07-05T00:00:00.000000000",
          "2024-07-06T00:00:00.000000000",
          "2024-07-07T00:00:00.000000000",
          "2024-07-08T00:00:00.000000000",
          "2024-07-09T00:00:00.000000000",
          "2024-07-10T00:00:00.000000000",
          "2024-07-11T00:00:00.000000000",
          "2024-07-12T00:00:00.000000000",
          "2024-07-13T00:00:00.000000000",
          "2024-07-14T00:00:00.000000000",
          "2024-07-15T00:00:00.000000000",
          "2024-07-16T00:00:00.000000000",
          "2024-07-17T00:00:00.000000000",
          "2024-07-18T00:00:00.000000000",
          "2024-07-19T00:00:00.000000000",
          "2024-07-20T00:00:00.000000000",
          "2024-07-21T00:00:00.000000000",
          "2024-07-22T00:00:00.000000000",
          "2024-07-23T00:00:00.000000000",
          "2024-07-24T00:00:00.000000000",
          "2024-07-25T00:00:00.000000000",
          "2024-07-26T00:00:00.000000000",
          "2024-07-27T00:00:00.000000000",
          "2024-07-28T00:00:00.000000000",
          "2024-07-29T00:00:00.000000000",
          "2024-07-30T00:00:00.000000000",
          "2024-07-31T00:00:00.000000000",
          "2024-08-01T00:00:00.000000000",
          "2024-08-02T00:00:00.000000000",
          "2024-08-03T00:00:00.000000000",
          "2024-08-04T00:00:00.000000000",
          "2024-08-05T00:00:00.000000000",
          "2024-08-06T00:00:00.000000000",
          "2024-08-07T00:00:00.000000000",
          "2024-08-08T00:00:00.000000000",
          "2024-08-09T00:00:00.000000000",
          "2024-08-10T00:00:00.000000000",
          "2024-08-11T00:00:00.000000000",
          "2024-08-12T00:00:00.000000000",
          "2024-08-13T00:00:00.000000000",
          "2024-08-14T00:00:00.000000000",
          "2024-08-15T00:00:00.000000000",
          "2024-08-16T00:00:00.000000000",
          "2024-08-17T00:00:00.000000000",
          "2024-08-18T00:00:00.000000000",
          "2024-08-19T00:00:00.000000000",
          "2024-08-20T00:00:00.000000000",
          "2024-08-21T00:00:00.000000000",
          "2024-08-23T00:00:00.000000000",
          "2024-08-24T00:00:00.000000000",
          "2024-08-25T00:00:00.000000000",
          "2024-08-26T00:00:00.000000000",
          "2024-08-27T00:00:00.000000000",
          "2024-08-28T00:00:00.000000000",
          "2024-08-29T00:00:00.000000000",
          "2024-08-30T00:00:00.000000000",
          "2024-08-31T00:00:00.000000000",
          "2024-09-01T00:00:00.000000000",
          "2024-09-02T00:00:00.000000000",
          "2024-09-04T00:00:00.000000000",
          "2024-09-05T00:00:00.000000000",
          "2024-09-06T00:00:00.000000000",
          "2024-09-08T00:00:00.000000000",
          "2024-09-09T00:00:00.000000000",
          "2024-09-10T00:00:00.000000000",
          "2024-09-11T00:00:00.000000000",
          "2024-09-14T00:00:00.000000000",
          "2024-09-18T00:00:00.000000000",
          "2024-09-19T00:00:00.000000000",
          "2024-09-20T00:00:00.000000000",
          "2024-09-21T00:00:00.000000000",
          "2024-09-22T00:00:00.000000000",
          "2024-09-23T00:00:00.000000000",
          "2024-09-24T00:00:00.000000000",
          "2024-09-25T00:00:00.000000000",
          "2024-09-26T00:00:00.000000000",
          "2024-09-27T00:00:00.000000000",
          "2024-09-28T00:00:00.000000000",
          "2024-09-30T00:00:00.000000000",
          "2024-10-01T00:00:00.000000000",
          "2024-10-02T00:00:00.000000000",
          "2024-10-03T00:00:00.000000000",
          "2024-10-04T00:00:00.000000000",
          "2024-10-05T00:00:00.000000000",
          "2024-10-06T00:00:00.000000000",
          "2024-10-07T00:00:00.000000000",
          "2024-10-08T00:00:00.000000000",
          "2024-10-09T00:00:00.000000000",
          "2024-10-10T00:00:00.000000000",
          "2024-10-11T00:00:00.000000000",
          "2024-10-12T00:00:00.000000000",
          "2024-10-13T00:00:00.000000000",
          "2024-10-14T00:00:00.000000000",
          "2024-10-15T00:00:00.000000000",
          "2024-10-16T00:00:00.000000000",
          "2024-10-17T00:00:00.000000000",
          "2024-10-18T00:00:00.000000000",
          "2024-10-19T00:00:00.000000000",
          "2024-10-20T00:00:00.000000000",
          "2024-10-21T00:00:00.000000000",
          "2024-10-22T00:00:00.000000000",
          "2024-10-23T00:00:00.000000000",
          "2024-10-25T00:00:00.000000000",
          "2024-10-27T00:00:00.000000000",
          "2024-10-28T00:00:00.000000000",
          "2024-10-29T00:00:00.000000000",
          "2024-10-30T00:00:00.000000000",
          "2024-10-31T00:00:00.000000000",
          "2024-11-01T00:00:00.000000000",
          "2024-11-02T00:00:00.000000000",
          "2024-11-03T00:00:00.000000000",
          "2024-11-04T00:00:00.000000000",
          "2024-11-05T00:00:00.000000000",
          "2024-11-06T00:00:00.000000000",
          "2024-11-07T00:00:00.000000000",
          "2024-11-08T00:00:00.000000000",
          "2024-11-09T00:00:00.000000000",
          "2024-11-10T00:00:00.000000000",
          "2024-11-11T00:00:00.000000000",
          "2024-11-12T00:00:00.000000000",
          "2024-11-13T00:00:00.000000000",
          "2024-11-14T00:00:00.000000000",
          "2024-11-15T00:00:00.000000000",
          "2024-11-16T00:00:00.000000000",
          "2024-11-17T00:00:00.000000000",
          "2024-11-18T00:00:00.000000000",
          "2024-11-19T00:00:00.000000000",
          "2024-11-20T00:00:00.000000000",
          "2024-11-21T00:00:00.000000000",
          "2024-11-22T00:00:00.000000000",
          "2024-11-23T00:00:00.000000000",
          "2024-11-24T00:00:00.000000000",
          "2024-11-25T00:00:00.000000000",
          "2024-11-26T00:00:00.000000000",
          "2024-11-27T00:00:00.000000000",
          "2024-11-28T00:00:00.000000000",
          "2024-11-29T00:00:00.000000000",
          "2024-11-30T00:00:00.000000000",
          "2024-12-01T00:00:00.000000000",
          "2024-12-02T00:00:00.000000000",
          "2024-12-03T00:00:00.000000000",
          "2024-12-04T00:00:00.000000000",
          "2024-12-05T00:00:00.000000000",
          "2024-12-06T00:00:00.000000000",
          "2024-12-07T00:00:00.000000000",
          "2024-12-08T00:00:00.000000000",
          "2024-12-09T00:00:00.000000000",
          "2024-12-10T00:00:00.000000000",
          "2024-12-11T00:00:00.000000000",
          "2024-12-12T00:00:00.000000000",
          "2024-12-13T00:00:00.000000000",
          "2024-12-14T00:00:00.000000000",
          "2024-12-15T00:00:00.000000000",
          "2024-12-16T00:00:00.000000000",
          "2024-12-17T00:00:00.000000000",
          "2024-12-18T00:00:00.000000000",
          "2024-12-19T00:00:00.000000000",
          "2024-12-20T00:00:00.000000000",
          "2024-12-21T00:00:00.000000000",
          "2024-12-22T00:00:00.000000000",
          "2024-12-23T00:00:00.000000000",
          "2024-12-24T00:00:00.000000000",
          "2024-12-25T00:00:00.000000000",
          "2024-12-26T00:00:00.000000000",
          "2024-12-27T00:00:00.000000000",
          "2024-12-28T00:00:00.000000000",
          "2024-12-29T00:00:00.000000000",
          "2024-12-30T00:00:00.000000000",
          "2024-12-31T00:00:00.000000000",
          "2025-01-01T00:00:00.000000000",
          "2025-01-02T00:00:00.000000000",
          "2025-01-03T00:00:00.000000000",
          "2025-01-04T00:00:00.000000000",
          "2025-01-05T00:00:00.000000000",
          "2025-01-06T00:00:00.000000000",
          "2025-01-07T00:00:00.000000000",
          "2025-01-08T00:00:00.000000000",
          "2025-01-09T00:00:00.000000000",
          "2025-01-10T00:00:00.000000000",
          "2025-01-11T00:00:00.000000000",
          "2025-01-12T00:00:00.000000000",
          "2025-01-13T00:00:00.000000000",
          "2025-01-14T00:00:00.000000000",
          "2025-01-15T00:00:00.000000000",
          "2025-01-16T00:00:00.000000000",
          "2025-01-17T00:00:00.000000000",
          "2025-01-18T00:00:00.000000000",
          "2025-01-19T00:00:00.000000000",
          "2025-01-20T00:00:00.000000000",
          "2025-01-21T00:00:00.000000000",
          "2025-01-22T00:00:00.000000000",
          "2025-01-23T00:00:00.000000000",
          "2025-01-24T00:00:00.000000000",
          "2025-01-25T00:00:00.000000000",
          "2025-01-26T00:00:00.000000000",
          "2025-01-27T00:00:00.000000000",
          "2025-01-28T00:00:00.000000000",
          "2025-01-29T00:00:00.000000000",
          "2025-01-30T00:00:00.000000000",
          "2025-01-31T00:00:00.000000000",
          "2025-02-01T00:00:00.000000000",
          "2025-02-02T00:00:00.000000000",
          "2025-02-03T00:00:00.000000000",
          "2025-02-04T00:00:00.000000000",
          "2025-02-05T00:00:00.000000000",
          "2025-02-06T00:00:00.000000000",
          "2025-02-07T00:00:00.000000000",
          "2025-02-08T00:00:00.000000000",
          "2025-02-09T00:00:00.000000000",
          "2025-02-10T00:00:00.000000000",
          "2025-02-11T00:00:00.000000000",
          "2025-02-12T00:00:00.000000000",
          "2025-02-13T00:00:00.000000000",
          "2025-02-14T00:00:00.000000000",
          "2025-02-15T00:00:00.000000000",
          "2025-02-16T00:00:00.000000000",
          "2025-02-17T00:00:00.000000000",
          "2025-02-18T00:00:00.000000000",
          "2025-02-19T00:00:00.000000000",
          "2025-02-20T00:00:00.000000000",
          "2025-02-21T00:00:00.000000000",
          "2025-02-22T00:00:00.000000000",
          "2025-02-23T00:00:00.000000000",
          "2025-02-24T00:00:00.000000000",
          "2025-02-25T00:00:00.000000000",
          "2025-02-26T00:00:00.000000000",
          "2025-02-27T00:00:00.000000000",
          "2025-02-28T00:00:00.000000000",
          "2025-03-01T00:00:00.000000000",
          "2025-03-02T00:00:00.000000000",
          "2025-03-03T00:00:00.000000000",
          "2025-03-04T00:00:00.000000000",
          "2025-03-05T00:00:00.000000000",
          "2025-03-06T00:00:00.000000000",
          "2025-03-07T00:00:00.000000000",
          "2025-03-08T00:00:00.000000000",
          "2025-03-09T00:00:00.000000000",
          "2025-03-10T00:00:00.000000000",
          "2025-03-11T00:00:00.000000000",
          "2025-03-12T00:00:00.000000000",
          "2025-03-13T00:00:00.000000000",
          "2025-03-14T00:00:00.000000000",
          "2025-03-15T00:00:00.000000000",
          "2025-03-16T00:00:00.000000000",
          "2025-03-17T00:00:00.000000000",
          "2025-03-18T00:00:00.000000000",
          "2025-03-19T00:00:00.000000000",
          "2025-03-20T00:00:00.000000000",
          "2025-03-21T00:00:00.000000000",
          "2025-03-22T00:00:00.000000000",
          "2025-03-23T00:00:00.000000000",
          "2025-03-24T00:00:00.000000000",
          "2025-03-25T00:00:00.000000000",
          "2025-03-26T00:00:00.000000000",
          "2025-03-27T00:00:00.000000000",
          "2025-03-28T00:00:00.000000000",
          "2025-03-29T00:00:00.000000000",
          "2025-03-30T00:00:00.000000000",
          "2025-03-31T00:00:00.000000000",
          "2025-04-01T00:00:00.000000000",
          "2025-04-02T00:00:00.000000000",
          "2025-04-03T00:00:00.000000000",
          "2025-04-04T00:00:00.000000000",
          "2025-04-05T00:00:00.000000000",
          "2025-04-06T00:00:00.000000000",
          "2025-04-07T00:00:00.000000000",
          "2025-04-08T00:00:00.000000000",
          "2025-04-09T00:00:00.000000000",
          "2025-04-10T00:00:00.000000000",
          "2025-04-11T00:00:00.000000000",
          "2025-04-12T00:00:00.000000000",
          "2025-04-13T00:00:00.000000000",
          "2025-04-14T00:00:00.000000000",
          "2025-04-15T00:00:00.000000000",
          "2025-04-16T00:00:00.000000000",
          "2025-04-17T00:00:00.000000000",
          "2025-04-18T00:00:00.000000000",
          "2025-04-19T00:00:00.000000000",
          "2025-04-20T00:00:00.000000000",
          "2025-04-21T00:00:00.000000000",
          "2025-04-22T00:00:00.000000000",
          "2025-04-23T00:00:00.000000000",
          "2025-04-24T00:00:00.000000000",
          "2025-04-25T00:00:00.000000000",
          "2025-04-26T00:00:00.000000000",
          "2025-04-27T00:00:00.000000000",
          "2025-04-28T00:00:00.000000000",
          "2025-04-29T00:00:00.000000000",
          "2025-04-30T00:00:00.000000000",
          "2025-05-01T00:00:00.000000000"
         ],
         "xaxis": "x",
         "y": {
          "bdata": "P0tIRkNJQUlKRkpGR0lJSUFEQUdGREhGR0dMSUxHNEA8PzM0ODcyMDQxNjc9PD8/PDw8QD5CR0ZPSkhITEhLSE5KTEpIT1JQUFBTUlpLUVRPUlFRWFNRT01PSk5KS1FTUE9LS09PR0ZPS05MUE5MT0hISkFDQkJJR0hIRkNBQ0M2MENFR0RAN0I1ODlCQEZJSEZMTExKTEtKSElJSElJSUtOTUhLSEpIRkpKR0dKQDw/NTczHi4oHi81MzIsHRodHBscHRkZITRBRT08SkpGR0VEREhHSkM9NDklIhoRHRQwKCcZHx4dGxkfHB4aIjg2NzAeHSIdGhobHRYdGiElMi0xNjY0MjY7Mj1APTIqJSkxMjIxMScgMTIwQUlHSUhJSEZHSEpISE1NS0hKRkZGTUtLTkxQVFhQVlpTWlNSXl1QUk9LTU5UUVBMTlRIS09OTkpTTFNQU1dRS0pJSUZJSU9KSElBQEJGSklITE5GRTJFPj0/RktLTU1MTFRLS0tJR0hIRkxEPCxINjEsLC4rLy4yMDI2My8sMTcxMjEZFQoQFBohDxQZIhwbFBgiLRsuHiAiIDEfIB4tLi8oLBogIiIsGRweIhcYEicZKy0fJh0eISAlJy9IPzxBPTY8ODU=",
          "dtype": "i1"
         },
         "yaxis": "y"
        },
        {
         "domain": {
          "x": [
           0.5700000000000001,
           0.9400000000000001
          ],
          "y": [
           0.625,
           1
          ]
         },
         "hole": 0.4,
         "labels": [
          "Greed",
          "Extreme Greed",
          "Fear",
          "Neutral",
          "Extreme Fear"
         ],
         "marker": {
          "colors": [
           "#2ed573",
           "#006400",
           "#ff4757",
           "#ffa502",
           "#8b0000"
          ]
         },
         "name": "Sentiment",
         "type": "pie",
         "values": {
          "bdata": "wQByAFsAQwAOAA==",
          "dtype": "i2"
         }
        },
        {
         "marker": {
          "color": "#2ed573",
          "opacity": 0.7,
          "size": 8
         },
         "mode": "markers",
         "name": "Greed",
         "type": "scatter",
         "x": {
          "bdata": "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",
          "dtype": "f8"
         },
         "xaxis": "x2",
         "y": {
          "bdata": "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",
          "dtype": "f8"
         },
         "yaxis": "y3"
        },
        {
         "marker": {
          "color": "#006400",
          "opacity": 0.7,
          "size": 8
         },
         "mode": "markers",
         "name": "Extreme Greed",
         "type": "scatter",
         "x": {
          "bdata": "9ihcj7pq6EAK16PwR40qQWdmZmaIohJBKVyPwvU/n0B7FK5HmMkYQczMzMykehFBH4XrUfhg+kDXo3A9IiD7QGdmZmaSjglBpHA9ChnjBEG5HoXrSiYYQc3MzMw63hxBuB6F67Hb7kCF61G4ZtkXQetRuN4MFDhBPQrXo6SwKUFI4XoUyPgTQQrXo3D5aAZBAAAAgAUWJEHNzMzMLtoKQZqZmZk7jAVBmpmZmQ0o+UDNzMzMzHC3QArXo3BpIwlBPQrXo1l6FUHsUbge9SziQDQzMzMvS/hAexSuR6EV9kCG61G4ZtcKQepRuB55yPxA16NwPYrj60BSuB6FKT0IQT4K16OMYfhApHA9Cnc/4UC4HoXrJTj1QIXrUbj+rvhAhetRuB5940AUrkfhObgUQUjhehSEQQ1BNDMzM7+/HkGF61G4+qfwQK5H4XqEaOhA61G4HiXfCUEUrkfh+tzrQBSuR+HfdxVBw/UoXA+n8kDC9ShcovsaQXE9CpeUzDBBexSuR2n45UBnZmZm6oYYQR+F61HISd1ACtejcBVb6kB7FK5HscHYQEjhehSuygBBKVyPwlzDMEFH4XoUjuLVQM3MzMxsG8dAhetRuFpZK0HXo3A9qNsPQc3MzMx0LvtAKVyPwrGFEEF7FK5HQ5sHQc3MzMwSPxlBuB6Fawz3N0FSuB6FcrYyQa9H4XohdB9B61G4ntPFLkG5HoVrksk1QXsUrkcAgxJBH4XrkfONMkFI4XqU880/Qc3MzEx+KiNB7FG4HpqCPkHXo3A9OUIiQexRuJ55IDlBhutRuFaCH0H2KFyP8EokQdejcL2FmyxBCtejcBaAMUF6FK6Hkgk2QWZmZiZR5zxBH4Xr0S09KEEzMzOzYW46QT0K16Pv3ChB61G4HjfcIUF7FK6H+owwQczMzEwPeidBpHA9yi4tM0HhehSuVZIbQQrXo3CXeCxBwvUoXBsHLkGkcD0KLAlIQXsUrndhYlFBH4XrUZz6RUE9CtfjDBRCQXsUrudytUNBwvUofCTpREGF61Fo7/ZTQY/C9Yiz+0xBkML1WItwX0EzMzNTHdNAQa5H4frd+yBBmpmZGZoJNEGvR+F6bkRHQVyPwnXW8DBBCtej8CawREGZmZnpwYdiQQvXo8AXnV9BH4Xr0RFAN0HhehRu5iI7QUjhelTCNExBMzMzc6mWOEEzMzOzUekyQdejcL1ZPEVB",
          "dtype": "f8"
         },
         "xaxis": "x2",
         "y": {
          "bdata": "AAAAAAAAAAD3Bl+YzNKJwL6fGi/dgmTAjnVxG417gUBL6gQ0kSaeQPp+arzE3bBAWMoyxDELnUDV52orNiqWQOhqK/YXxItAJJf/kH6Po0AOLbKd/yrDQKH4MeYeGsBA6FgXt9HcbEB1ApoIi1TAQOCcEaXxJdtAbef7qcFT00Du68A50566QLfRAN7ir7BA1sVtNMBuw0C0WfW52mWjQESLbOdbCKxARrbz/VS+p0AAAAAAAAAAADerPle7E6tAOSNKe4NcuEARx7q4jZJsQGMQWDm0dH9AhA1Pr9TDlkCq8dJNYuaEQDLmriUEP6JAOPjCZKpblEAcDeAt0B+pQFfsL7snzWJArBxaZDt7bEALtaZ5x5iLQLivA+dMMpFAFvvL7kmGjEDvycNC7ZejQGB2Tx4WnotAutqK/T3pxEB4nKIjuYptQAAAAAAAAAAA0ETY8LQJk0AAAAAAAAAAAAyTqYJxV7RAMuauJeRbeEAQvjCZKoWCwOQUHcllebxAAAAAAAAAAABq3nGKjtV5QI2XbhKDQCxA4C2QoHhViEDJdr6fGgdMQK36XG3FInFAE2HD0ztjwUAAAAAAAAAAAM3MzMzMTCJAQj7o2Sz4kkDVmuYd50GQQPKwUGtajbFAWDm0yHYaUMBn1edqK7pZQEwVjErq+I5Ax0s3iaFdukCWsgxxzEyrQC//If1mpr5AIGPuWoLTsUCwcmiRvSywQAaBlUMLo6VAUB4Was2Xi0D4wmSq0HaxQLWmeceJHKdAzV1LyBdysEBjf9k9uXGaQGB2Tx5WrtHAGw3gLRCrpkC/fR04Z4yNQCbkg569k7VAh4Va0zwbkUDLf0i//bykwDj4wmQ2Bv/ALSEf9GeWBUFiMlUwljjiQFYwKqnL9uNAD3o2q2YO0kCAt0CCIgbXQClcj0Jv4BFBiUFg5WF58UA6tMh2JPn0QGiR7Xz3Ls9AnDOitPemuEBseHqluDPjQHA9CpffSCJBs+pztfkv30AFxY8xy3sEQbsnDwtVz/dANIC3wLJbBEHQRNhwOs4KQatgVFJ/ucpABHgLJACj7kBoImx4lGjtQPMf0m8vsLdA7FG4Hh1xz0DyQc9m7VHUQDj4wmRqXrtAIMsQx7qze0DkFB3JPHf1QIiFWtPTTvVAIo51ceuixUAxCKwcGgvUQOY/pN+DuPhAtoR80GO1xEC8lpAPAjbEwMZtNICJg+FA",
          "dtype": "f8"
         },
         "yaxis": "y3"
        },
        {
         "marker": {
          "color": "#ffa502",
          "opacity": 0.7,
          "size": 8
         },
         "mode": "markers",
         "name": "Neutral",
         "type": "scatter",
         "x": {
          "bdata": "MzMzM4O56EAUrkfhMyYaQSlcj4IKVDBBhetRuNtMGUHhehQuuXMtQUjhehRiQPBAFK5H4Zr+xkC4HoXrQa/RQDMzMzMXP/VAmZmZmepAEUFmZmZmHuLuQI/C9SjSswRBMzMzM+uYGEE+CtejGkoWQY/C9Sgszt1AmZmZmbgiFkGkcD0Kb0jgQHsUrkeF7AVBzczMzEY2CEHXo3A99M0LQQrXo3CTth5BuB6F65Fv1UD2KFyPoibxQGZmZmZmto9AAAAAAMCgykAUrkfheseXQFK4HoUlURRBXI/C9YA4BEHD9Shc74fTQHsUrkfJseNAehSuR6HOu0AUrkfh/sL7QPYoXI+SFQFBrkfhekt7IkHXo3A9ilESQTMzMzOF2gpBUrgehWCGGkEK16Nwf+cKQTMzMzMLfwNBCtejcE1M7UA9CtejgDvuQLkehWv++VhBhetR8CetYEH2KFxv5oBFQZmZmdnrSEZBXI/CFfRXRUFSuB5Fs51PQa5H4Rq2aUhBXI/CtV+STkEzMzPz1CI6QXsUrkdDmihBPQrXo8T9PkFwPQpXPLhJQSlcj1IgqFFBmpmZGUk6SEHXo3C9PmoxQa5H4XJIaGVBwvUonCsRSUFSuB7FEvlBQeF6FO4hNjlBZmZmhrkFR0EUrkfxmX5UQXoUrpeu+1xBFa5HWYIHa0EehevJUBiAQT0K15cn6nhBCtejEH5yZEE=",
          "dtype": "f8"
         },
         "xaxis": "x2",
         "y": {
          "bdata": "s3vysFAbY0C7Jw8LtRZ4wA5Pr5RlUmLATRWMSuoTd8CmCkYltfClwDSAt0BCK6jAzczMzMyMVkAQ6bevI1yjwAAAAAAAAAAACKwcWgS6tECFfNCzWXNvQGRd3EYDp4dAAAAAAAAAAAAijnVxu2WwQAAAAAAAAAAAiGNd3NbJs0A8vVKWgeqiQPcGX5iMeZFAAAAAAAAA8L/D9Shcj+JkQA7gLZCEqNFAAAAAAAAAAAAAAAAAAAAAAAAAAAAAAAAAaCJseHp1i8AAAAAAAAAAACBB8WOEuMJANKK0N7Ko4UAAAAAAAAAAAMDsnjws7HRAAAAAAAAAAAAAAAAAAH17QAAAAAAAAAAAOUVHcimHtkA2PL1Slk9gQAAAAAAAAAAA/kP67YsUtUBZF7fRAMF4QLu4jQZw7IBAAAAAAAAAAABoImx4euadQNBNYhBwwsPA3gIJikew60A9vVKWeYHgQOzAOaO+YAJB5h2n6MjNt8BseHqlKGLTQJCg+DFiLdtA8kHPZiUbCkFVMCqpXf7lQNBE2PD0gqJAG55eKUtqnEAoXI/CSkT2QCGwcmgZd+ZAduCcEa2v2ED2l92Td9DEQOCcEaXFyOJAC7WmeW+Ry0DRkVz+aTbzQNJvXwduA8RAT0ATYW9W+kAvTKYKukffQE8eFmoV3c5AbVZ9rgDH50BRjZdumKPsQDBMpgpaBeJAPXDOiBqh6kA=",
          "dtype": "f8"
         },
         "yaxis": "y3"
        },
        {
         "marker": {
          "color": "#ff4757",
          "opacity": 0.7,
          "size": 8
         },
         "mode": "markers",
         "name": "Fear",
         "type": "scatter",
         "x": {
          "bdata": "exSuR7Er+UAzMzMzb9v/QArXo3B8GBFBpHA9CqBHGkH2KFyPh54QQaRwPQpXdKNAAAAAAAAsf0AK16NwPRp/QGZmZmbmYKVAuB6Fazj+JEGPwvUo+LwEQVK4HoXv3vVAUrgehan9AEFI4XoUEoL0QArXo3CTuxFBH4XrEcBtMkGamZmZPaoZQdejcD2KeaNA7FG4HqUlxkCF61G4xpjlQNejcD3qcupA4noUrndP1ECuR+F6YEnwQBSuR+F6yZdAhetRuHZPBEEK16NwPYrdQMP1KFyPqu5ArkfherB9+ECamZmZWV/oQPYoXI/moflAuB6F67EC70DrUbgegV/xQM3MzMzshcNA4XoUricu4kAUrkfhNj/6QKRwPQrXI8hAFK5H4RpM3UApXI/CxwwAQeF6FK5H4eo/KVyPwvUovD+PwvUo3FyvQML1KFyP5qNASOF6FK5H4T8K16NwJWf4QFK4HoU9OgBBw/UoXI/C1T/D9Shc4U8SQSlcj8Ig1x1BH4XrVdiLdUFSuB7FU2ZKQQrXo/BtoClBhetROP+nS0HrUbge3eZIQV2PwoX8g3JB9ihcL2ylWEGF61GYW3NfQdejcD3DzllBexSuNzzvckFSuB4FZzkrQXoUrj++32NBZmZmsnHBcUGkcD3KlLJeQYbrUTCSbmNBZmZmhl9pS0HC9Si8b+dOQUjhemQHi1FBHoXrsY9oQ0FxPQrXQqgtQVyPwtV3yUNBrkfhuqu4SEHC9SicVKE2QaRwPepb/EtBrkfheh3ARUHD9Sg8EoRAQRSuR2F6fyVBzczMTI2CTUHNzMwkg4lgQdijcN1MQ01BhetROGxXM0F7FK4HChhLQQrXoxQUaXtBpHA94gOXZUEfhevLg6mKQfYoXJ+08mhBPgrXg3LKc0E0MzPf5WeBQRSuR8ED30NB9ihcp3V4d0H2KFzr+TB/QZqZmcHxIGdB7FG4tqcThEE=",
          "dtype": "f8"
         },
         "xaxis": "x2",
         "y": {
          "bdata": "OPjCZFoFs0AAAAAAAAAAADojSntTBrhAAAAAAAAAAAAAAAAAAAAAAI/k8h/SN1tAkKD4Mea2TkAAAAAAAAAAAHZxGw3gR4RA6gQ0Ed5kx0BUdCSXP1OdQDSAt0BCEZZAZYhjXTzDpkAAAAAAAAAAANIA3gIJA31A6bevAwDz/cCmCkYl1WrJwHPXEvJBmWdAAAAAAAAAAACXkA96Nn6KQL6fGi9d1YpAO99PjZeCakCwcmiRzfGgQAAAAAAAAAAA001iENjJiUD2l92ThwRywACRfvs6M3NAgQTFjzE7dUDswDkjShNoQCKOdXGbgYRAwFsgQXFqj0CRfvs6cNWUQAAAAAAAAAAAgZVDi2wHcEBO0ZFc/sMlQLn8h/TbLWFAAAAAAAAAAABcIEHxI6eQQAAAAAAAAAAAAAAAAAAAAAAAAAAAAAAAAIV80LNZd2vAAAAAAAAAAAAAAAAAAAAAAI51cRsNGFlAAAAAAAAAAAAAAAAAAAAAALgeheupWsFAjSjtTR1LFUHUCWgigOzVQDcawFugVYJAE2HD048070DMf0i/5UTNQBaMSmrR/ghBvVKWISVW8EAnoIkQus8iQTAqqROQcs9ARrbzfeBWAkGASL99MR/YQEymCkZdT9NA8x/S76eVEUEN4C2QYsLwQIAExY/x5r7AdZMYBPqM2UAm5IOeLKjxQISezaqrr9xAG3xhMkUnu0CuR+F6RGnIQFz+Q/q1b8tAmP+Qfiu57EA6I0p7S9bUQLTIdr5vocdAhetRuI7ZzkBiodY0L0K7QEdQ/BhTNaHAcmiR7SWvCEFMe4Mv7HuiwFD8GHPr6tjAE/JBz2qI4UDDZKpgrvnmQLwFEpSuUQNB+MJkqmfc/kAMAivHzgwZQUp7gy8OTuZAqvHSTVuq8UAIG55e96DsQNxGA3jrM7VA+Jfdk2cQs0BMyAc96ZDxQKGJsOEVedhAarx0kyjI4EA=",
          "dtype": "f8"
         },
         "yaxis": "y3"
        },
        {
         "marker": {
          "color": "#8b0000",
          "opacity": 0.7,
          "size": 8
         },
         "mode": "markers",
         "name": "Extreme Fear",
         "type": "scatter",
         "x": {
          "bdata": "j8L1KMwE7kDNzMzMrNXPQDMzMzPjEONAhetRiAPfUkHiehRuGoQ+QSlcj2IGdk9BUrgehUAaEEHNzMzkwjdlQXA9CscWiWFBrkfh6nAIcEGuR+ECN7xqQUjheqSrlGtBzczM7MHqYEG4HoVn4Dt7QQ==",
          "dtype": "f8"
         },
         "xaxis": "x2",
         "y": {
          "bdata": "DAIrhxa1cEAJG55eKVtEwNqs+lxtQ5HApAG8BaLf7kDbrPpcpdXhwAkbnt7gigtBRWlv8A2yxECwlGWI3DkGQRzr4nZBcBBBlP+QfgONw8Bt5/upC8XywLdif9nr2+BAD5wzomwK4UC/7J48Dg7lQA==",
          "dtype": "f8"
         },
         "yaxis": "y3"
        },
        {
         "marker": {
          "color": [
           "#006400",
           "#ff4757",
           "#2ed573",
           "#ffa502",
           "#8b0000"
          ]
         },
         "name": "Efficiency",
         "type": "bar",
         "x": [
          "Extreme Greed",
          "Fear",
          "Greed",
          "Neutral",
          "Extreme Fear"
         ],
         "xaxis": "x3",
         "y": {
          "bdata": "KOEdgpiKlT/8/eXCkFWGP4YfCuJ0GIQ/oL/KH2dAgT/2VQYsIiWAPw==",
          "dtype": "f8"
         },
         "yaxis": "y5"
        }
       ],
       "layout": {
        "annotations": [
         {
          "font": {
           "size": 16
          },
          "showarrow": false,
          "text": "Fear & Greed Evolution",
          "x": 0.185,
          "xanchor": "center",
          "xref": "paper",
          "y": 1,
          "yanchor": "bottom",
          "yref": "paper"
         },
         {
          "font": {
           "size": 16
          },
          "showarrow": false,
          "text": "Sentiment Distribution",
          "x": 0.7550000000000001,
          "xanchor": "center",
          "xref": "paper",
          "y": 1,
          "yanchor": "bottom",
          "yref": "paper"
         },
         {
          "font": {
           "size": 16
          },
          "showarrow": false,
          "text": "Volume vs Sentiment",
          "x": 0.185,
          "xanchor": "center",
          "xref": "paper",
          "y": 0.375,
          "yanchor": "bottom",
          "yref": "paper"
         },
         {
          "font": {
           "size": 16
          },
          "showarrow": false,
          "text": "PnL Efficiency by Sentiment",
          "x": 0.7550000000000001,
          "xanchor": "center",
          "xref": "paper",
          "y": 0.375,
          "yanchor": "bottom",
          "yref": "paper"
         }
        ],
        "height": 800,
        "showlegend": true,
        "template": {
         "data": {
          "bar": [
           {
            "error_x": {
             "color": "#f2f5fa"
            },
            "error_y": {
             "color": "#f2f5fa"
            },
            "marker": {
             "line": {
              "color": "rgb(17,17,17)",
              "width": 0.5
             },
             "pattern": {
              "fillmode": "overlay",
              "size": 10,
              "solidity": 0.2
             }
            },
            "type": "bar"
           }
          ],
          "barpolar": [
           {
            "marker": {
             "line": {
              "color": "rgb(17,17,17)",
              "width": 0.5
             },
             "pattern": {
              "fillmode": "overlay",
              "size": 10,
              "solidity": 0.2
             }
            },
            "type": "barpolar"
           }
          ],
          "carpet": [
           {
            "aaxis": {
             "endlinecolor": "#A2B1C6",
             "gridcolor": "#506784",
             "linecolor": "#506784",
             "minorgridcolor": "#506784",
             "startlinecolor": "#A2B1C6"
            },
            "baxis": {
             "endlinecolor": "#A2B1C6",
             "gridcolor": "#506784",
             "linecolor": "#506784",
             "minorgridcolor": "#506784",
             "startlinecolor": "#A2B1C6"
            },
            "type": "carpet"
           }
          ],
          "choropleth": [
           {
            "colorbar": {
             "outlinewidth": 0,
             "ticks": ""
            },
            "type": "choropleth"
           }
          ],
          "contour": [
           {
            "colorbar": {
             "outlinewidth": 0,
             "ticks": ""
            },
            "colorscale": [
             [
              0,
              "#0d0887"
             ],
             [
              0.1111111111111111,
              "#46039f"
             ],
             [
              0.2222222222222222,
              "#7201a8"
             ],
             [
              0.3333333333333333,
              "#9c179e"
             ],
             [
              0.4444444444444444,
              "#bd3786"
             ],
             [
              0.5555555555555556,
              "#d8576b"
             ],
             [
              0.6666666666666666,
              "#ed7953"
             ],
             [
              0.7777777777777778,
              "#fb9f3a"
             ],
             [
              0.8888888888888888,
              "#fdca26"
             ],
             [
              1,
              "#f0f921"
             ]
            ],
            "type": "contour"
           }
          ],
          "contourcarpet": [
           {
            "colorbar": {
             "outlinewidth": 0,
             "ticks": ""
            },
            "type": "contourcarpet"
           }
          ],
          "heatmap": [
           {
            "colorbar": {
             "outlinewidth": 0,
             "ticks": ""
            },
            "colorscale": [
             [
              0,
              "#0d0887"
             ],
             [
              0.1111111111111111,
              "#46039f"
             ],
             [
              0.2222222222222222,
              "#7201a8"
             ],
             [
              0.3333333333333333,
              "#9c179e"
             ],
             [
              0.4444444444444444,
              "#bd3786"
             ],
             [
              0.5555555555555556,
              "#d8576b"
             ],
             [
              0.6666666666666666,
              "#ed7953"
             ],
             [
              0.7777777777777778,
              "#fb9f3a"
             ],
             [
              0.8888888888888888,
              "#fdca26"
             ],
             [
              1,
              "#f0f921"
             ]
            ],
            "type": "heatmap"
           }
          ],
          "histogram": [
           {
            "marker": {
             "pattern": {
              "fillmode": "overlay",
              "size": 10,
              "solidity": 0.2
             }
            },
            "type": "histogram"
           }
          ],
          "histogram2d": [
           {
            "colorbar": {
             "outlinewidth": 0,
             "ticks": ""
            },
            "colorscale": [
             [
              0,
              "#0d0887"
             ],
             [
              0.1111111111111111,
              "#46039f"
             ],
             [
              0.2222222222222222,
              "#7201a8"
             ],
             [
              0.3333333333333333,
              "#9c179e"
             ],
             [
              0.4444444444444444,
              "#bd3786"
             ],
             [
              0.5555555555555556,
              "#d8576b"
             ],
             [
              0.6666666666666666,
              "#ed7953"
             ],
             [
              0.7777777777777778,
              "#fb9f3a"
             ],
             [
              0.8888888888888888,
              "#fdca26"
             ],
             [
              1,
              "#f0f921"
             ]
            ],
            "type": "histogram2d"
           }
          ],
          "histogram2dcontour": [
           {
            "colorbar": {
             "outlinewidth": 0,
             "ticks": ""
            },
            "colorscale": [
             [
              0,
              "#0d0887"
             ],
             [
              0.1111111111111111,
              "#46039f"
             ],
             [
              0.2222222222222222,
              "#7201a8"
             ],
             [
              0.3333333333333333,
              "#9c179e"
             ],
             [
              0.4444444444444444,
              "#bd3786"
             ],
             [
              0.5555555555555556,
              "#d8576b"
             ],
             [
              0.6666666666666666,
              "#ed7953"
             ],
             [
              0.7777777777777778,
              "#fb9f3a"
             ],
             [
              0.8888888888888888,
              "#fdca26"
             ],
             [
              1,
              "#f0f921"
             ]
            ],
            "type": "histogram2dcontour"
           }
          ],
          "mesh3d": [
           {
            "colorbar": {
             "outlinewidth": 0,
             "ticks": ""
            },
            "type": "mesh3d"
           }
          ],
          "parcoords": [
           {
            "line": {
             "colorbar": {
              "outlinewidth": 0,
              "ticks": ""
             }
            },
            "type": "parcoords"
           }
          ],
          "pie": [
           {
            "automargin": true,
            "type": "pie"
           }
          ],
          "scatter": [
           {
            "marker": {
             "line": {
              "color": "#283442"
             }
            },
            "type": "scatter"
           }
          ],
          "scatter3d": [
           {
            "line": {
             "colorbar": {
              "outlinewidth": 0,
              "ticks": ""
             }
            },
            "marker": {
             "colorbar": {
              "outlinewidth": 0,
              "ticks": ""
             }
            },
            "type": "scatter3d"
           }
          ],
          "scattercarpet": [
           {
            "marker": {
             "colorbar": {
              "outlinewidth": 0,
              "ticks": ""
             }
            },
            "type": "scattercarpet"
           }
          ],
          "scattergeo": [
           {
            "marker": {
             "colorbar": {
              "outlinewidth": 0,
              "ticks": ""
             }
            },
            "type": "scattergeo"
           }
          ],
          "scattergl": [
           {
            "marker": {
             "line": {
              "color": "#283442"
             }
            },
            "type": "scattergl"
           }
          ],
          "scattermap": [
           {
            "marker": {
             "colorbar": {
              "outlinewidth": 0,
              "ticks": ""
             }
            },
            "type": "scattermap"
           }
          ],
          "scattermapbox": [
           {
            "marker": {
             "colorbar": {
              "outlinewidth": 0,
              "ticks": ""
             }
            },
            "type": "scattermapbox"
           }
          ],
          "scatterpolar": [
           {
            "marker": {
             "colorbar": {
              "outlinewidth": 0,
              "ticks": ""
             }
            },
            "type": "scatterpolar"
           }
          ],
          "scatterpolargl": [
           {
            "marker": {
             "colorbar": {
              "outlinewidth": 0,
              "ticks": ""
             }
            },
            "type": "scatterpolargl"
           }
          ],
          "scatterternary": [
           {
            "marker": {
             "colorbar": {
              "outlinewidth": 0,
              "ticks": ""
             }
            },
            "type": "scatterternary"
           }
          ],
          "surface": [
           {
            "colorbar": {
             "outlinewidth": 0,
             "ticks": ""
            },
            "colorscale": [
             [
              0,
              "#0d0887"
             ],
             [
              0.1111111111111111,
              "#46039f"
             ],
             [
              0.2222222222222222,
              "#7201a8"
             ],
             [
              0.3333333333333333,
              "#9c179e"
             ],
             [
              0.4444444444444444,
              "#bd3786"
             ],
             [
              0.5555555555555556,
              "#d8576b"
             ],
             [
              0.6666666666666666,
              "#ed7953"
             ],
             [
              0.7777777777777778,
              "#fb9f3a"
             ],
             [
              0.8888888888888888,
              "#fdca26"
             ],
             [
              1,
              "#f0f921"
             ]
            ],
            "type": "surface"
           }
          ],
          "table": [
           {
            "cells": {
             "fill": {
              "color": "#506784"
             },
             "line": {
              "color": "rgb(17,17,17)"
             }
            },
            "header": {
             "fill": {
              "color": "#2a3f5f"
             },
             "line": {
              "color": "rgb(17,17,17)"
             }
            },
            "type": "table"
           }
          ]
         },
         "layout": {
          "annotationdefaults": {
           "arrowcolor": "#f2f5fa",
           "arrowhead": 0,
           "arrowwidth": 1
          },
          "autotypenumbers": "strict",
          "coloraxis": {
           "colorbar": {
            "outlinewidth": 0,
            "ticks": ""
           }
          },
          "colorscale": {
           "diverging": [
            [
             0,
             "#8e0152"
            ],
            [
             0.1,
             "#c51b7d"
            ],
            [
             0.2,
             "#de77ae"
            ],
            [
             0.3,
             "#f1b6da"
            ],
            [
             0.4,
             "#fde0ef"
            ],
            [
             0.5,
             "#f7f7f7"
            ],
            [
             0.6,
             "#e6f5d0"
            ],
            [
             0.7,
             "#b8e186"
            ],
            [
             0.8,
             "#7fbc41"
            ],
            [
             0.9,
             "#4d9221"
            ],
            [
             1,
             "#276419"
            ]
           ],
           "sequential": [
            [
             0,
             "#0d0887"
            ],
            [
             0.1111111111111111,
             "#46039f"
            ],
            [
             0.2222222222222222,
             "#7201a8"
            ],
            [
             0.3333333333333333,
             "#9c179e"
            ],
            [
             0.4444444444444444,
             "#bd3786"
            ],
            [
             0.5555555555555556,
             "#d8576b"
            ],
            [
             0.6666666666666666,
             "#ed7953"
            ],
            [
             0.7777777777777778,
             "#fb9f3a"
            ],
            [
             0.8888888888888888,
             "#fdca26"
            ],
            [
             1,
             "#f0f921"
            ]
           ],
           "sequentialminus": [
            [
             0,
             "#0d0887"
            ],
            [
             0.1111111111111111,
             "#46039f"
            ],
            [
             0.2222222222222222,
             "#7201a8"
            ],
            [
             0.3333333333333333,
             "#9c179e"
            ],
            [
             0.4444444444444444,
             "#bd3786"
            ],
            [
             0.5555555555555556,
             "#d8576b"
            ],
            [
             0.6666666666666666,
             "#ed7953"
            ],
            [
             0.7777777777777778,
             "#fb9f3a"
            ],
            [
             0.8888888888888888,
             "#fdca26"
            ],
            [
             1,
             "#f0f921"
            ]
           ]
          },
          "colorway": [
           "#636efa",
           "#EF553B",
           "#00cc96",
           "#ab63fa",
           "#FFA15A",
           "#19d3f3",
           "#FF6692",
           "#B6E880",
           "#FF97FF",
           "#FECB52"
          ],
          "font": {
           "color": "#f2f5fa"
          },
          "geo": {
           "bgcolor": "rgb(17,17,17)",
           "lakecolor": "rgb(17,17,17)",
           "landcolor": "rgb(17,17,17)",
           "showlakes": true,
           "showland": true,
           "subunitcolor": "#506784"
          },
          "hoverlabel": {
           "align": "left"
          },
          "hovermode": "closest",
          "mapbox": {
           "style": "dark"
          },
          "paper_bgcolor": "rgb(17,17,17)",
          "plot_bgcolor": "rgb(17,17,17)",
          "polar": {
           "angularaxis": {
            "gridcolor": "#506784",
            "linecolor": "#506784",
            "ticks": ""
           },
           "bgcolor": "rgb(17,17,17)",
           "radialaxis": {
            "gridcolor": "#506784",
            "linecolor": "#506784",
            "ticks": ""
           }
          },
          "scene": {
           "xaxis": {
            "backgroundcolor": "rgb(17,17,17)",
            "gridcolor": "#506784",
            "gridwidth": 2,
            "linecolor": "#506784",
            "showbackground": true,
            "ticks": "",
            "zerolinecolor": "#C8D4E3"
           },
           "yaxis": {
            "backgroundcolor": "rgb(17,17,17)",
            "gridcolor": "#506784",
            "gridwidth": 2,
            "linecolor": "#506784",
            "showbackground": true,
            "ticks": "",
            "zerolinecolor": "#C8D4E3"
           },
           "zaxis": {
            "backgroundcolor": "rgb(17,17,17)",
            "gridcolor": "#506784",
            "gridwidth": 2,
            "linecolor": "#506784",
            "showbackground": true,
            "ticks": "",
            "zerolinecolor": "#C8D4E3"
           }
          },
          "shapedefaults": {
           "line": {
            "color": "#f2f5fa"
           }
          },
          "sliderdefaults": {
           "bgcolor": "#C8D4E3",
           "bordercolor": "rgb(17,17,17)",
           "borderwidth": 1,
           "tickwidth": 0
          },
          "ternary": {
           "aaxis": {
            "gridcolor": "#506784",
            "linecolor": "#506784",
            "ticks": ""
           },
           "baxis": {
            "gridcolor": "#506784",
            "linecolor": "#506784",
            "ticks": ""
           },
           "bgcolor": "rgb(17,17,17)",
           "caxis": {
            "gridcolor": "#506784",
            "linecolor": "#506784",
            "ticks": ""
           }
          },
          "title": {
           "x": 0.05
          },
          "updatemenudefaults": {
           "bgcolor": "#506784",
           "borderwidth": 0
          },
          "xaxis": {
           "automargin": true,
           "gridcolor": "#283442",
           "linecolor": "#506784",
           "ticks": "",
           "title": {
            "standoff": 15
           },
           "zerolinecolor": "#283442",
           "zerolinewidth": 2
          },
          "yaxis": {
           "automargin": true,
           "gridcolor": "#283442",
           "linecolor": "#506784",
           "ticks": "",
           "title": {
            "standoff": 15
           },
           "zerolinecolor": "#283442",
           "zerolinewidth": 2
          }
         }
        },
        "title": {
         "text": "Market Sentiment Analysis Dashboard",
         "x": 0.5
        },
        "xaxis": {
         "anchor": "y",
         "domain": [
          0,
          0.37
         ]
        },
        "xaxis2": {
         "anchor": "y3",
         "domain": [
          0,
          0.37
         ]
        },
        "xaxis3": {
         "anchor": "y5",
         "domain": [
          0.5700000000000001,
          0.9400000000000001
         ]
        },
        "yaxis": {
         "anchor": "x",
         "domain": [
          0.625,
          1
         ]
        },
        "yaxis2": {
         "anchor": "x",
         "overlaying": "y",
         "side": "right"
        },
        "yaxis3": {
         "anchor": "x2",
         "domain": [
          0,
          0.375
         ]
        },
        "yaxis4": {
         "anchor": "x2",
         "overlaying": "y3",
         "side": "right"
        },
        "yaxis5": {
         "anchor": "x3",
         "domain": [
          0,
          0.375
         ]
        },
        "yaxis6": {
         "anchor": "x3",
         "overlaying": "y5",
         "side": "right"
        }
       }
      }
     },
     "metadata": {},
     "output_type": "display_data"
    }
   ],
   "source": [
    "fig = make_subplots(\n",
    "    rows=2, cols=2,\n",
    "    subplot_titles=('Fear & Greed Evolution', 'Sentiment Distribution', \n",
    "                   'Volume vs Sentiment', 'PnL Efficiency by Sentiment'),\n",
    "    specs=[[{\"secondary_y\": True}, {\"type\": \"pie\"}],\n",
    "           [{\"secondary_y\": True}, {\"secondary_y\": True}]]\n",
    ")\n",
    "\n",
    "color_map = {'Extreme Fear': emotion_colors['extreme_fear'], 'Fear': emotion_colors['fear'], \n",
    "             'Neutral': emotion_colors['neutral'], 'Greed': emotion_colors['greed'], \n",
    "             'Extreme Greed': emotion_colors['extreme_greed']}\n",
    "\n",
    "fig.add_trace(\n",
    "    go.Scatter(x=merged_data['date'], y=merged_data['value'],\n",
    "               mode='lines', name='F&G Index', line=dict(width=2, color=emotion_colors['accent'])),\n",
    "    row=1, col=1\n",
    ")\n",
    "\n",
    "sentiment_counts = merged_data['classification'].value_counts()\n",
    "fig.add_trace(\n",
    "    go.Pie(labels=sentiment_counts.index, values=sentiment_counts.values,\n",
    "           marker_colors=[color_map[x] for x in sentiment_counts.index],\n",
    "           hole=0.4, name=\"Sentiment\"),\n",
    "    row=1, col=2\n",
    ")\n",
    "\n",
    "for sentiment in merged_data['classification'].unique():\n",
    "    subset = merged_data[merged_data['classification'] == sentiment]\n",
    "    fig.add_trace(\n",
    "        go.Scatter(x=subset['volume'], y=subset['total_pnl'],\n",
    "                   mode='markers', name=sentiment,\n",
    "                   marker=dict(color=color_map[sentiment], size=8, opacity=0.7)),\n",
    "        row=2, col=1\n",
    "    )\n",
    "\n",
    "efficiency_by_sentiment = merged_data.groupby('classification')['efficiency_ratio'].mean().sort_values(ascending=False)\n",
    "fig.add_trace(\n",
    "    go.Bar(x=efficiency_by_sentiment.index, y=efficiency_by_sentiment.values,\n",
    "           marker_color=[color_map[x] for x in efficiency_by_sentiment.index],\n",
    "           name='Efficiency'),\n",
    "    row=2, col=2\n",
    ")\n",
    "\n",
    "fig.update_layout(\n",
    "    height=800, \n",
    "    title_text=\"Market Sentiment Analysis Dashboard\",\n",
    "    title_x=0.5,\n",
    "    template='plotly_dark',\n",
    "    showlegend=True\n",
    ")\n",
    "\n",
    "fig.show()\n",
    "fig.write_image('outputs/market_sentiment_dashboard.png', width=1200, height=800)"
   ]
  },
  {
   "cell_type": "code",
   "execution_count": 21,
   "metadata": {},
   "outputs": [],
   "source": [
    "# !pip install kaleido\n"
   ]
  },
  {
   "cell_type": "markdown",
   "metadata": {},
   "source": [
    "## Trading Behavior Patterns"
   ]
  },
  {
   "cell_type": "code",
   "execution_count": 22,
   "metadata": {},
   "outputs": [
    {
     "data": {
      "image/png": "[encoded data removed]",
      "text/plain": [
       "<Figure size 1800x1200 with 6 Axes>"
      ]
     },
     "metadata": {},
     "output_type": "display_data"
    },
    {
     "name": "stdout",
     "output_type": "stream",
     "text": [
      "\n",
      "📊 Key Behavioral Insights:\n",
      "• Highest volume during: Extreme Fear\n",
      "• Most profitable sentiment: Extreme Fear\n",
      "• Strongest buy bias: Extreme Fear\n",
      "• Most active period: Extreme Fear\n"
     ]
    }
   ],
   "source": [
    "behavior_analysis = merged_data.groupby('classification').agg({\n",
    "    'volume': ['mean', 'std'],\n",
    "    'total_pnl': ['mean', 'std'], \n",
    "    'buy_ratio': 'mean',\n",
    "    'active_traders': 'mean',\n",
    "    'trades': 'mean'\n",
    "}).round(4)\n",
    "\n",
    "behavior_analysis.columns = ['avg_volume', 'vol_volatility', 'avg_pnl', 'pnl_volatility', \n",
    "                           'buy_preference', 'avg_traders', 'avg_trades']\n",
    "\n",
    "fig, axes = plt.subplots(2, 3, figsize=(18, 12))\n",
    "fig.suptitle('Trading Behavior Across Market Sentiments', fontsize=20, y=0.98)\n",
    "\n",
    "metrics = ['avg_volume', 'avg_pnl', 'buy_preference', 'avg_traders', 'avg_trades', 'vol_volatility']\n",
    "titles = ['Average Volume', 'Average PnL', 'Buy Preference', 'Active Traders', 'Trade Count', 'Volume Volatility']\n",
    "\n",
    "for i, (metric, title) in enumerate(zip(metrics, titles)):\n",
    "    ax = axes[i//3, i%3]\n",
    "    colors = [color_map[idx] for idx in behavior_analysis.index]\n",
    "    bars = ax.bar(behavior_analysis.index, behavior_analysis[metric], color=colors, alpha=0.8)\n",
    "    \n",
    "    ax.set_title(title, fontsize=14, pad=20)\n",
    "    ax.tick_params(axis='x', rotation=45)\n",
    "    \n",
    "    for bar, value in zip(bars, behavior_analysis[metric]):\n",
    "        height = bar.get_height()\n",
    "        ax.text(bar.get_x() + bar.get_width()/2., height + height*0.01,\n",
    "                f'{value:.2f}', ha='center', va='bottom', fontsize=10)\n",
    "\n",
    "plt.tight_layout()\n",
    "plt.savefig('outputs/trading_behavior_patterns.png', dpi=300, bbox_inches='tight')\n",
    "plt.show()\n",
    "\n",
    "print(\"\\n📊 Key Behavioral Insights:\")\n",
    "print(f\"• Highest volume during: {behavior_analysis['avg_volume'].idxmax()}\")\n",
    "print(f\"• Most profitable sentiment: {behavior_analysis['avg_pnl'].idxmax()}\")\n",
    "print(f\"• Strongest buy bias: {behavior_analysis['buy_preference'].idxmax()}\")\n",
    "print(f\"• Most active period: {behavior_analysis['avg_traders'].idxmax()}\")"
   ]
  },
  {
   "cell_type": "markdown",
   "metadata": {},
   "source": [
    "## Correlation Analysis & Advanced Analytics"
   ]
  },
  {
   "cell_type": "code",
   "execution_count": 23,
   "metadata": {},
   "outputs": [
    {
     "data": {
      "image/png": "[encoded data removed]",
      "text/plain": [
       "<Figure size 1600x600 with 3 Axes>"
      ]
     },
     "metadata": {},
     "output_type": "display_data"
    },
    {
     "data": {
      "image/png": "[encoded data removed]",
      "text/plain": [
       "<Figure size 1600x600 with 3 Axes>"
      ]
     },
     "metadata": {},
     "output_type": "display_data"
    },
    {
     "name": "stdout",
     "output_type": "stream",
     "text": [
      "\n",
      "🔗 Strongest Correlations:\n",
      "• trades ↔ active_traders: 0.797\n",
      "• active_traders ↔ trades: 0.797\n",
      "• volume ↔ trades: 0.720\n",
      "• trades ↔ volume: 0.720\n",
      "• active_traders ↔ volume: 0.641\n"
     ]
    }
   ],
   "source": [
    "correlation_features = ['value', 'volume', 'total_pnl', 'buy_ratio', 'active_traders', 'trades', 'efficiency_ratio']\n",
    "corr_matrix = merged_data[correlation_features].corr()\n",
    "\n",
    "fig, (ax1, ax2) = plt.subplots(1, 2, figsize=(16, 6))\n",
    "\n",
    "mask = np.triu(np.ones_like(corr_matrix, dtype=bool))\n",
    "sns.heatmap(corr_matrix, mask=mask, annot=True, cmap='RdYlBu_r', center=0,\n",
    "            square=True, linewidths=0.5, cbar_kws={\"shrink\": .8}, ax=ax1)\n",
    "ax1.set_title('Feature Correlation Matrix', fontsize=14)\n",
    "# Rolling correlation\n",
    "rolling = merged_data.set_index('date')[['value', 'total_pnl']].rolling(30).corr()\n",
    "rolling_corr = rolling.loc[:, 'value'].xs('total_pnl', level=1)\n",
    "\n",
    "fig, (ax1, ax2) = plt.subplots(1, 2, figsize=(16, 6))\n",
    "\n",
    "# Correlation heatmap\n",
    "mask = np.triu(np.ones_like(corr_matrix, dtype=bool))\n",
    "sns.heatmap(corr_matrix, mask=mask, annot=True, cmap='RdYlBu_r', center=0,\n",
    "            square=True, linewidths=0.5, cbar_kws={\"shrink\": .8}, ax=ax1)\n",
    "ax1.set_title('Feature Correlation Matrix', fontsize=14)\n",
    "\n",
    "# Rolling correlation plot\n",
    "ax2.plot(rolling_corr.index, rolling_corr.values, color=emotion_colors['accent'], linewidth=2)\n",
    "ax2.axhline(y=0, color='white', linestyle='--', alpha=0.5)\n",
    "ax2.set_title('30-Day Rolling Correlation: Sentiment vs PnL', fontsize=14)\n",
    "ax2.set_ylabel('Correlation Coefficient')\n",
    "\n",
    "plt.tight_layout()\n",
    "plt.savefig('outputs/correlation_analysis.png', dpi=300, bbox_inches='tight')\n",
    "plt.show()\n",
    "\n",
    "# Print strongest correlations\n",
    "strongest_correlations = corr_matrix.abs().unstack().sort_values(ascending=False)\n",
    "strongest_correlations = strongest_correlations[strongest_correlations < 1.0].head(5)\n",
    "print(\"\\n🔗 Strongest Correlations:\")\n",
    "for (var1, var2), corr in strongest_correlations.items():\n",
    "    print(f\"• {var1} ↔ {var2}: {corr:.3f}\")\n"
   ]
  },
  {
   "cell_type": "markdown",
   "metadata": {},
   "source": [
    "## Sentiment-Based Trading Strategies"
   ]
  },
  {
   "cell_type": "code",
   "execution_count": 24,
   "metadata": {},
   "outputs": [
    {
     "data": {
      "application/vnd.plotly.v1+json": {
       "config": {
        "plotlyServerURL": "https://plot.ly"
       },
       "data": [
        {
         "marker": {
          "color": [
           "#ff4757",
           "#95a5a6",
           "#2ed573"
          ]
         },
         "name": "Avg PnL",
         "type": "bar",
         "x": [
          "Contrarian Buy",
          "Hold",
          "Momentum Sell"
         ],
         "xaxis": "x",
         "y": {
          "bdata": "HOvidkFwEEFnRGlv1EbVQL4wmSow5sFA",
          "dtype": "f8"
         },
         "yaxis": "y"
        },
        {
         "domain": {
          "x": [
           0.55,
           1
          ],
          "y": [
           0.625,
           1
          ]
         },
         "hole": 0.4,
         "labels": [
          "Contrarian Buy",
          "Hold",
          "Momentum Sell"
         ],
         "marker": {
          "colors": [
           "#ff4757",
           "#95a5a6",
           "#2ed573"
          ]
         },
         "type": "pie",
         "values": {
          "bdata": "AQC8ASIA",
          "dtype": "i2"
         }
        },
        {
         "marker": {
          "color": [
           "#ff4757",
           "#95a5a6",
           "#2ed573"
          ]
         },
         "name": "Efficiency",
         "type": "bar",
         "x": [
          "Contrarian Buy",
          "Hold",
          "Momentum Sell"
         ],
         "xaxis": "x2",
         "y": {
          "bdata": "4lgXt9EAnj8tQxzr4jaKP18HzhlR2ns/",
          "dtype": "f8"
         },
         "yaxis": "y2"
        },
        {
         "marker": {
          "color": [
           "#ff4757",
           "#95a5a6",
           "#2ed573"
          ]
         },
         "name": "Volume",
         "type": "bar",
         "x": [
          "Contrarian Buy",
          "Hold",
          "Momentum Sell"
         ],
         "xaxis": "x3",
         "y": {
          "bdata": "cT0KxxaJYUHZPXnIRMlDQRKlveGpTytB",
          "dtype": "f8"
         },
         "yaxis": "y3"
        }
       ],
       "layout": {
        "annotations": [
         {
          "font": {
           "size": 16
          },
          "showarrow": false,
          "text": "Strategy Performance",
          "x": 0.225,
          "xanchor": "center",
          "xref": "paper",
          "y": 1,
          "yanchor": "bottom",
          "yref": "paper"
         },
         {
          "font": {
           "size": 16
          },
          "showarrow": false,
          "text": "Signal Distribution",
          "x": 0.775,
          "xanchor": "center",
          "xref": "paper",
          "y": 1,
          "yanchor": "bottom",
          "yref": "paper"
         },
         {
          "font": {
           "size": 16
          },
          "showarrow": false,
          "text": "Efficiency Comparison",
          "x": 0.225,
          "xanchor": "center",
          "xref": "paper",
          "y": 0.375,
          "yanchor": "bottom",
          "yref": "paper"
         },
         {
          "font": {
           "size": 16
          },
          "showarrow": false,
          "text": "Volume Analysis",
          "x": 0.775,
          "xanchor": "center",
          "xref": "paper",
          "y": 0.375,
          "yanchor": "bottom",
          "yref": "paper"
         }
        ],
        "height": 800,
        "showlegend": false,
        "template": {
         "data": {
          "bar": [
           {
            "error_x": {
             "color": "#f2f5fa"
            },
            "error_y": {
             "color": "#f2f5fa"
            },
            "marker": {
             "line": {
              "color": "rgb(17,17,17)",
              "width": 0.5
             },
             "pattern": {
              "fillmode": "overlay",
              "size": 10,
              "solidity": 0.2
             }
            },
            "type": "bar"
           }
          ],
          "barpolar": [
           {
            "marker": {
             "line": {
              "color": "rgb(17,17,17)",
              "width": 0.5
             },
             "pattern": {
              "fillmode": "overlay",
              "size": 10,
              "solidity": 0.2
             }
            },
            "type": "barpolar"
           }
          ],
          "carpet": [
           {
            "aaxis": {
             "endlinecolor": "#A2B1C6",
             "gridcolor": "#506784",
             "linecolor": "#506784",
             "minorgridcolor": "#506784",
             "startlinecolor": "#A2B1C6"
            },
            "baxis": {
             "endlinecolor": "#A2B1C6",
             "gridcolor": "#506784",
             "linecolor": "#506784",
             "minorgridcolor": "#506784",
             "startlinecolor": "#A2B1C6"
            },
            "type": "carpet"
           }
          ],
          "choropleth": [
           {
            "colorbar": {
             "outlinewidth": 0,
             "ticks": ""
            },
            "type": "choropleth"
           }
          ],
          "contour": [
           {
            "colorbar": {
             "outlinewidth": 0,
             "ticks": ""
            },
            "colorscale": [
             [
              0,
              "#0d0887"
             ],
             [
              0.1111111111111111,
              "#46039f"
             ],
             [
              0.2222222222222222,
              "#7201a8"
             ],
             [
              0.3333333333333333,
              "#9c179e"
             ],
             [
              0.4444444444444444,
              "#bd3786"
             ],
             [
              0.5555555555555556,
              "#d8576b"
             ],
             [
              0.6666666666666666,
              "#ed7953"
             ],
             [
              0.7777777777777778,
              "#fb9f3a"
             ],
             [
              0.8888888888888888,
              "#fdca26"
             ],
             [
              1,
              "#f0f921"
             ]
            ],
            "type": "contour"
           }
          ],
          "contourcarpet": [
           {
            "colorbar": {
             "outlinewidth": 0,
             "ticks": ""
            },
            "type": "contourcarpet"
           }
          ],
          "heatmap": [
           {
            "colorbar": {
             "outlinewidth": 0,
             "ticks": ""
            },
            "colorscale": [
             [
              0,
              "#0d0887"
             ],
             [
              0.1111111111111111,
              "#46039f"
             ],
             [
              0.2222222222222222,
              "#7201a8"
             ],
             [
              0.3333333333333333,
              "#9c179e"
             ],
             [
              0.4444444444444444,
              "#bd3786"
             ],
             [
              0.5555555555555556,
              "#d8576b"
             ],
             [
              0.6666666666666666,
              "#ed7953"
             ],
             [
              0.7777777777777778,
              "#fb9f3a"
             ],
             [
              0.8888888888888888,
              "#fdca26"
             ],
             [
              1,
              "#f0f921"
             ]
            ],
            "type": "heatmap"
           }
          ],
          "histogram": [
           {
            "marker": {
             "pattern": {
              "fillmode": "overlay",
              "size": 10,
              "solidity": 0.2
             }
            },
            "type": "histogram"
           }
          ],
          "histogram2d": [
           {
            "colorbar": {
             "outlinewidth": 0,
             "ticks": ""
            },
            "colorscale": [
             [
              0,
              "#0d0887"
             ],
             [
              0.1111111111111111,
              "#46039f"
             ],
             [
              0.2222222222222222,
              "#7201a8"
             ],
             [
              0.3333333333333333,
              "#9c179e"
             ],
             [
              0.4444444444444444,
              "#bd3786"
             ],
             [
              0.5555555555555556,
              "#d8576b"
             ],
             [
              0.6666666666666666,
              "#ed7953"
             ],
             [
              0.7777777777777778,
              "#fb9f3a"
             ],
             [
              0.8888888888888888,
              "#fdca26"
             ],
             [
              1,
              "#f0f921"
             ]
            ],
            "type": "histogram2d"
           }
          ],
          "histogram2dcontour": [
           {
            "colorbar": {
             "outlinewidth": 0,
             "ticks": ""
            },
            "colorscale": [
             [
              0,
              "#0d0887"
             ],
             [
              0.1111111111111111,
              "#46039f"
             ],
             [
              0.2222222222222222,
              "#7201a8"
             ],
             [
              0.3333333333333333,
              "#9c179e"
             ],
             [
              0.4444444444444444,
              "#bd3786"
             ],
             [
              0.5555555555555556,
              "#d8576b"
             ],
             [
              0.6666666666666666,
              "#ed7953"
             ],
             [
              0.7777777777777778,
              "#fb9f3a"
             ],
             [
              0.8888888888888888,
              "#fdca26"
             ],
             [
              1,
              "#f0f921"
             ]
            ],
            "type": "histogram2dcontour"
           }
          ],
          "mesh3d": [
           {
            "colorbar": {
             "outlinewidth": 0,
             "ticks": ""
            },
            "type": "mesh3d"
           }
          ],
          "parcoords": [
           {
            "line": {
             "colorbar": {
              "outlinewidth": 0,
              "ticks": ""
             }
            },
            "type": "parcoords"
           }
          ],
          "pie": [
           {
            "automargin": true,
            "type": "pie"
           }
          ],
          "scatter": [
           {
            "marker": {
             "line": {
              "color": "#283442"
             }
            },
            "type": "scatter"
           }
          ],
          "scatter3d": [
           {
            "line": {
             "colorbar": {
              "outlinewidth": 0,
              "ticks": ""
             }
            },
            "marker": {
             "colorbar": {
              "outlinewidth": 0,
              "ticks": ""
             }
            },
            "type": "scatter3d"
           }
          ],
          "scattercarpet": [
           {
            "marker": {
             "colorbar": {
              "outlinewidth": 0,
              "ticks": ""
             }
            },
            "type": "scattercarpet"
           }
          ],
          "scattergeo": [
           {
            "marker": {
             "colorbar": {
              "outlinewidth": 0,
              "ticks": ""
             }
            },
            "type": "scattergeo"
           }
          ],
          "scattergl": [
           {
            "marker": {
             "line": {
              "color": "#283442"
             }
            },
            "type": "scattergl"
           }
          ],
          "scattermap": [
           {
            "marker": {
             "colorbar": {
              "outlinewidth": 0,
              "ticks": ""
             }
            },
            "type": "scattermap"
           }
          ],
          "scattermapbox": [
           {
            "marker": {
             "colorbar": {
              "outlinewidth": 0,
              "ticks": ""
             }
            },
            "type": "scattermapbox"
           }
          ],
          "scatterpolar": [
           {
            "marker": {
             "colorbar": {
              "outlinewidth": 0,
              "ticks": ""
             }
            },
            "type": "scatterpolar"
           }
          ],
          "scatterpolargl": [
           {
            "marker": {
             "colorbar": {
              "outlinewidth": 0,
              "ticks": ""
             }
            },
            "type": "scatterpolargl"
           }
          ],
          "scatterternary": [
           {
            "marker": {
             "colorbar": {
              "outlinewidth": 0,
              "ticks": ""
             }
            },
            "type": "scatterternary"
           }
          ],
          "surface": [
           {
            "colorbar": {
             "outlinewidth": 0,
             "ticks": ""
            },
            "colorscale": [
             [
              0,
              "#0d0887"
             ],
             [
              0.1111111111111111,
              "#46039f"
             ],
             [
              0.2222222222222222,
              "#7201a8"
             ],
             [
              0.3333333333333333,
              "#9c179e"
             ],
             [
              0.4444444444444444,
              "#bd3786"
             ],
             [
              0.5555555555555556,
              "#d8576b"
             ],
             [
              0.6666666666666666,
              "#ed7953"
             ],
             [
              0.7777777777777778,
              "#fb9f3a"
             ],
             [
              0.8888888888888888,
              "#fdca26"
             ],
             [
              1,
              "#f0f921"
             ]
            ],
            "type": "surface"
           }
          ],
          "table": [
           {
            "cells": {
             "fill": {
              "color": "#506784"
             },
             "line": {
              "color": "rgb(17,17,17)"
             }
            },
            "header": {
             "fill": {
              "color": "#2a3f5f"
             },
             "line": {
              "color": "rgb(17,17,17)"
             }
            },
            "type": "table"
           }
          ]
         },
         "layout": {
          "annotationdefaults": {
           "arrowcolor": "#f2f5fa",
           "arrowhead": 0,
           "arrowwidth": 1
          },
          "autotypenumbers": "strict",
          "coloraxis": {
           "colorbar": {
            "outlinewidth": 0,
            "ticks": ""
           }
          },
          "colorscale": {
           "diverging": [
            [
             0,
             "#8e0152"
            ],
            [
             0.1,
             "#c51b7d"
            ],
            [
             0.2,
             "#de77ae"
            ],
            [
             0.3,
             "#f1b6da"
            ],
            [
             0.4,
             "#fde0ef"
            ],
            [
             0.5,
             "#f7f7f7"
            ],
            [
             0.6,
             "#e6f5d0"
            ],
            [
             0.7,
             "#b8e186"
            ],
            [
             0.8,
             "#7fbc41"
            ],
            [
             0.9,
             "#4d9221"
            ],
            [
             1,
             "#276419"
            ]
           ],
           "sequential": [
            [
             0,
             "#0d0887"
            ],
            [
             0.1111111111111111,
             "#46039f"
            ],
            [
             0.2222222222222222,
             "#7201a8"
            ],
            [
             0.3333333333333333,
             "#9c179e"
            ],
            [
             0.4444444444444444,
             "#bd3786"
            ],
            [
             0.5555555555555556,
             "#d8576b"
            ],
            [
             0.6666666666666666,
             "#ed7953"
            ],
            [
             0.7777777777777778,
             "#fb9f3a"
            ],
            [
             0.8888888888888888,
             "#fdca26"
            ],
            [
             1,
             "#f0f921"
            ]
           ],
           "sequentialminus": [
            [
             0,
             "#0d0887"
            ],
            [
             0.1111111111111111,
             "#46039f"
            ],
            [
             0.2222222222222222,
             "#7201a8"
            ],
            [
             0.3333333333333333,
             "#9c179e"
            ],
            [
             0.4444444444444444,
             "#bd3786"
            ],
            [
             0.5555555555555556,
             "#d8576b"
            ],
            [
             0.6666666666666666,
             "#ed7953"
            ],
            [
             0.7777777777777778,
             "#fb9f3a"
            ],
            [
             0.8888888888888888,
             "#fdca26"
            ],
            [
             1,
             "#f0f921"
            ]
           ]
          },
          "colorway": [
           "#636efa",
           "#EF553B",
           "#00cc96",
           "#ab63fa",
           "#FFA15A",
           "#19d3f3",
           "#FF6692",
           "#B6E880",
           "#FF97FF",
           "#FECB52"
          ],
          "font": {
           "color": "#f2f5fa"
          },
          "geo": {
           "bgcolor": "rgb(17,17,17)",
           "lakecolor": "rgb(17,17,17)",
           "landcolor": "rgb(17,17,17)",
           "showlakes": true,
           "showland": true,
           "subunitcolor": "#506784"
          },
          "hoverlabel": {
           "align": "left"
          },
          "hovermode": "closest",
          "mapbox": {
           "style": "dark"
          },
          "paper_bgcolor": "rgb(17,17,17)",
          "plot_bgcolor": "rgb(17,17,17)",
          "polar": {
           "angularaxis": {
            "gridcolor": "#506784",
            "linecolor": "#506784",
            "ticks": ""
           },
           "bgcolor": "rgb(17,17,17)",
           "radialaxis": {
            "gridcolor": "#506784",
            "linecolor": "#506784",
            "ticks": ""
           }
          },
          "scene": {
           "xaxis": {
            "backgroundcolor": "rgb(17,17,17)",
            "gridcolor": "#506784",
            "gridwidth": 2,
            "linecolor": "#506784",
            "showbackground": true,
            "ticks": "",
            "zerolinecolor": "#C8D4E3"
           },
           "yaxis": {
            "backgroundcolor": "rgb(17,17,17)",
            "gridcolor": "#506784",
            "gridwidth": 2,
            "linecolor": "#506784",
            "showbackground": true,
            "ticks": "",
            "zerolinecolor": "#C8D4E3"
           },
           "zaxis": {
            "backgroundcolor": "rgb(17,17,17)",
            "gridcolor": "#506784",
            "gridwidth": 2,
            "linecolor": "#506784",
            "showbackground": true,
            "ticks": "",
            "zerolinecolor": "#C8D4E3"
           }
          },
          "shapedefaults": {
           "line": {
            "color": "#f2f5fa"
           }
          },
          "sliderdefaults": {
           "bgcolor": "#C8D4E3",
           "bordercolor": "rgb(17,17,17)",
           "borderwidth": 1,
           "tickwidth": 0
          },
          "ternary": {
           "aaxis": {
            "gridcolor": "#506784",
            "linecolor": "#506784",
            "ticks": ""
           },
           "baxis": {
            "gridcolor": "#506784",
            "linecolor": "#506784",
            "ticks": ""
           },
           "bgcolor": "rgb(17,17,17)",
           "caxis": {
            "gridcolor": "#506784",
            "linecolor": "#506784",
            "ticks": ""
           }
          },
          "title": {
           "x": 0.05
          },
          "updatemenudefaults": {
           "bgcolor": "#506784",
           "borderwidth": 0
          },
          "xaxis": {
           "automargin": true,
           "gridcolor": "#283442",
           "linecolor": "#506784",
           "ticks": "",
           "title": {
            "standoff": 15
           },
           "zerolinecolor": "#283442",
           "zerolinewidth": 2
          },
          "yaxis": {
           "automargin": true,
           "gridcolor": "#283442",
           "linecolor": "#506784",
           "ticks": "",
           "title": {
            "standoff": 15
           },
           "zerolinecolor": "#283442",
           "zerolinewidth": 2
          }
         }
        },
        "title": {
         "text": "Trading Strategy Analysis",
         "x": 0.5
        },
        "xaxis": {
         "anchor": "y",
         "domain": [
          0,
          0.45
         ]
        },
        "xaxis2": {
         "anchor": "y2",
         "domain": [
          0,
          0.45
         ]
        },
        "xaxis3": {
         "anchor": "y3",
         "domain": [
          0.55,
          1
         ]
        },
        "yaxis": {
         "anchor": "x",
         "domain": [
          0.625,
          1
         ]
        },
        "yaxis2": {
         "anchor": "x2",
         "domain": [
          0,
          0.375
         ]
        },
        "yaxis3": {
         "anchor": "x3",
         "domain": [
          0,
          0.375
         ]
        }
       }
      }
     },
     "metadata": {},
     "output_type": "display_data"
    },
    {
     "name": "stdout",
     "output_type": "stream",
     "text": [
      "\n",
      " Strategy Insights:\n",
      "                    avg_pnl     total_pnl  occurrences    avg_volume  \\\n",
      "signal                                                                 \n",
      "Contrarian Buy  269328.3661  2.693284e+05            1  9.193654e+06   \n",
      "Hold             21787.3193  9.673570e+06          444  2.593418e+06   \n",
      "Momentum Sell     9164.3763  3.115888e+05           34  8.949329e+05   \n",
      "\n",
      "                efficiency  \n",
      "signal                      \n",
      "Contrarian Buy      0.0293  \n",
      "Hold                0.0128  \n",
      "Momentum Sell       0.0068  \n",
      "\n",
      " Best performing strategy: Contrarian Buy\n",
      "Average PnL: $269,328.37\n"
     ]
    }
   ],
   "source": [
    "strategy_analysis = merged_data.copy()\n",
    "strategy_analysis['sentiment_shift'] = strategy_analysis['sentiment_score'].diff()\n",
    "strategy_analysis['volume_ma'] = strategy_analysis['volume'].rolling(7).mean()\n",
    "strategy_analysis['pnl_ma'] = strategy_analysis['total_pnl'].rolling(7).mean()\n",
    "\n",
    "contrarian_signals = (\n",
    "    (strategy_analysis['classification'] == 'Extreme Fear') & \n",
    "    (strategy_analysis['buy_ratio'] < 0.4)\n",
    ")\n",
    "momentum_signals = (\n",
    "    (strategy_analysis['classification'] == 'Extreme Greed') & \n",
    "    (strategy_analysis['buy_ratio'] > 0.6)\n",
    ")\n",
    "\n",
    "strategy_analysis['signal'] = 'Hold'\n",
    "strategy_analysis.loc[contrarian_signals, 'signal'] = 'Contrarian Buy'\n",
    "strategy_analysis.loc[momentum_signals, 'signal'] = 'Momentum Sell'\n",
    "\n",
    "signal_performance = strategy_analysis.groupby('signal').agg({\n",
    "    'total_pnl': ['mean', 'sum', 'count'],\n",
    "    'volume': 'mean',\n",
    "    'efficiency_ratio': 'mean'\n",
    "}).round(4)\n",
    "\n",
    "signal_performance.columns = ['avg_pnl', 'total_pnl', 'occurrences', 'avg_volume', 'efficiency']\n",
    "\n",
    "fig = make_subplots(\n",
    "    rows=2, cols=2,\n",
    "    subplot_titles=('Strategy Performance', 'Signal Distribution', \n",
    "                   'Efficiency Comparison', 'Volume Analysis'),\n",
    "    specs=[[{\"type\": \"bar\"}, {\"type\": \"pie\"}],\n",
    "           [{\"type\": \"bar\"}, {\"type\": \"bar\"}]]\n",
    ")\n",
    "\n",
    "signal_colors = {'Hold': '#95a5a6', 'Contrarian Buy': emotion_colors['fear'], 'Momentum Sell': emotion_colors['greed']}\n",
    "\n",
    "fig.add_trace(\n",
    "    go.Bar(x=signal_performance.index, y=signal_performance['avg_pnl'],\n",
    "           marker_color=[signal_colors.get(x, '#95a5a6') for x in signal_performance.index],\n",
    "           name='Avg PnL'),\n",
    "    row=1, col=1\n",
    ")\n",
    "\n",
    "fig.add_trace(\n",
    "    go.Pie(labels=signal_performance.index, values=signal_performance['occurrences'],\n",
    "           marker_colors=[signal_colors.get(x, '#95a5a6') for x in signal_performance.index],\n",
    "           hole=0.4),\n",
    "    row=1, col=2\n",
    ")\n",
    "\n",
    "fig.add_trace(\n",
    "    go.Bar(x=signal_performance.index, y=signal_performance['efficiency'],\n",
    "           marker_color=[signal_colors.get(x, '#95a5a6') for x in signal_performance.index],\n",
    "           name='Efficiency'),\n",
    "    row=2, col=1\n",
    ")\n",
    "\n",
    "fig.add_trace(\n",
    "    go.Bar(x=signal_performance.index, y=signal_performance['avg_volume'],\n",
    "           marker_color=[signal_colors.get(x, '#95a5a6') for x in signal_performance.index],\n",
    "           name='Volume'),\n",
    "    row=2, col=2\n",
    ")\n",
    "\n",
    "fig.update_layout(\n",
    "    height=800,\n",
    "    title_text=\"Trading Strategy Analysis\",\n",
    "    title_x=0.5,\n",
    "    template='plotly_dark',\n",
    "    showlegend=False\n",
    ")\n",
    "\n",
    "fig.show()\n",
    "fig.write_image('outputs/strategy_analysis_dashboard.png', width=1200, height=800)\n",
    "\n",
    "print(\"\\n Strategy Insights:\")\n",
    "print(signal_performance)\n",
    "best_strategy = signal_performance['avg_pnl'].idxmax()\n",
    "print(f\"\\n Best performing strategy: {best_strategy}\")\n",
    "print(f\"Average PnL: ${signal_performance.loc[best_strategy, 'avg_pnl']:,.2f}\")"
   ]
  },
  {
   "cell_type": "markdown",
   "metadata": {},
   "source": [
    "## Key Findings & Strategic Recommendations"
   ]
  },
  {
   "cell_type": "code",
   "execution_count": 29,
   "metadata": {},
   "outputs": [
    {
     "name": "stdout",
     "output_type": "stream",
     "text": [
      "\n",
      "\n",
      "STRATEGIC TRADING INSIGHTS\n",
      "\n",
      " Contrarian Opportunity:\n",
      "   Extreme Fear periods show 52793.59 avg PnL\n",
      "\n",
      " Momentum Risk:\n",
      "   Extreme Greed periods show 23817.29 avg PnL\n",
      "\n",
      " Volatility Leader:\n",
      "   Extreme Fear has highest PnL volatility (101262.39)\n",
      "\n",
      " Efficiency Champion:\n",
      "   Extreme Greed shows best volume efficiency (0.0210)\n",
      "\n",
      " Market Participation:\n",
      "   Average 5 active traders per day\n",
      "\n",
      "\n",
      "\n",
      "============================================================\n",
      "Analysis completed successfully!\n"
     ]
    }
   ],
   "source": [
    "extreme_fear_performance = merged_data[merged_data['classification'] == 'Extreme Fear']['total_pnl'].mean()\n",
    "extreme_greed_performance = merged_data[merged_data['classification'] == 'Extreme Greed']['total_pnl'].mean()\n",
    "sentiment_volatility = merged_data.groupby('classification')['total_pnl'].std()\n",
    "volume_efficiency = merged_data.groupby('classification')['efficiency_ratio'].mean()\n",
    "\n",
    "insights = {\n",
    "    'Contrarian Opportunity': f\"Extreme Fear periods show {extreme_fear_performance:.2f} avg PnL\",\n",
    "    'Momentum Risk': f\"Extreme Greed periods show {extreme_greed_performance:.2f} avg PnL\", \n",
    "    'Volatility Leader': f\"{sentiment_volatility.idxmax()} has highest PnL volatility ({sentiment_volatility.max():.2f})\",\n",
    "    'Efficiency Champion': f\"{volume_efficiency.idxmax()} shows best volume efficiency ({volume_efficiency.max():.4f})\",\n",
    "    'Market Participation': f\"Average {merged_data['active_traders'].mean():.0f} active traders per day\"\n",
    "}\n",
    "\n",
    "print(\"\\n\")\n",
    "print(\"STRATEGIC TRADING INSIGHTS\")\n",
    "\n",
    "\n",
    "for category, insight in insights.items():\n",
    "    print(f\"\\n {category}:\")\n",
    "    print(f\"   {insight}\")\n",
    "\n",
    "print(\"\\n\")\n",
    "\n",
    "\n",
    "print(\"\\n\" + \"=\"*60)\n",
    "print(\"Analysis completed successfully!\")\n"
   ]
  },
  {
   "cell_type": "code",
   "execution_count": null,
   "metadata": {},
   "outputs": [],
   "source": []
  }
 ],
 "metadata": {
  "kernelspec": {
   "display_name": ".venv",
   "language": "python",
   "name": "python3"
  },
  "language_info": {
   "codemirror_mode": {
    "name": "ipython",
    "version": 3
   },
   "file_extension": ".py",
   "mimetype": "text/x-python",
   "name": "python",
   "nbconvert_exporter": "python",
   "pygments_lexer": "ipython3",
   "version": "3.9.13"
  }
 },
 "nbformat": 4,
 "nbformat_minor": 4
}
